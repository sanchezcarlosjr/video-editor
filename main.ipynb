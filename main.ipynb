{
 "cells": [
  {
   "cell_type": "markdown",
   "id": "45e144ee-ab14-4079-b82a-05c565aa4649",
   "metadata": {},
   "source": [
    "# FFMPEG"
   ]
  },
  {
   "cell_type": "code",
   "execution_count": 5,
   "id": "0eafb2e8-c89d-4b0d-8b26-8c3557c44e00",
   "metadata": {},
   "outputs": [
    {
     "name": "stdout",
     "output_type": "stream",
     "text": [
      "ffmpeg version n6.1.1 Copyright (c) 2000-2023 the FFmpeg developers\n",
      "  built with gcc 13.2.1 (GCC) 20230801\n",
      "  configuration: --prefix=/usr --disable-debug --disable-static --disable-stripping --enable-amf --enable-avisynth --enable-cuda-llvm --enable-lto --enable-fontconfig --enable-frei0r --enable-gmp --enable-gnutls --enable-gpl --enable-ladspa --enable-libaom --enable-libass --enable-libbluray --enable-libbs2b --enable-libdav1d --enable-libdrm --enable-libfreetype --enable-libfribidi --enable-libgsm --enable-libharfbuzz --enable-libiec61883 --enable-libjack --enable-libjxl --enable-libmodplug --enable-libmp3lame --enable-libopencore_amrnb --enable-libopencore_amrwb --enable-libopenjpeg --enable-libopenmpt --enable-libopus --enable-libplacebo --enable-libpulse --enable-librav1e --enable-librsvg --enable-librubberband --enable-libsnappy --enable-libsoxr --enable-libspeex --enable-libsrt --enable-libssh --enable-libsvtav1 --enable-libtheora --enable-libv4l2 --enable-libvidstab --enable-libvmaf --enable-libvorbis --enable-libvpl --enable-libvpx --enable-libwebp --enable-libx264 --enable-libx265 --enable-libxcb --enable-libxml2 --enable-libxvid --enable-libzimg --enable-nvdec --enable-nvenc --enable-opencl --enable-opengl --enable-shared --enable-version3 --enable-vulkan\n",
      "  libavutil      58. 29.100 / 58. 29.100\n",
      "  libavcodec     60. 31.102 / 60. 31.102\n",
      "  libavformat    60. 16.100 / 60. 16.100\n",
      "  libavdevice    60.  3.100 / 60.  3.100\n",
      "  libavfilter     9. 12.100 /  9. 12.100\n",
      "  libswscale      7.  5.100 /  7.  5.100\n",
      "  libswresample   4. 12.100 /  4. 12.100\n",
      "  libpostproc    57.  3.100 / 57.  3.100\n",
      "Hyper fast Audio and Video encoder\n",
      "usage: ffmpeg [options] [[infile options] -i infile]... {[outfile options] outfile}...\n",
      "\n",
      "\u001b[0;33mUse -h to get full help or, even better, run 'man ffmpeg'\n",
      "\u001b[0m"
     ]
    }
   ],
   "source": [
    "! ffmpeg"
   ]
  },
  {
   "cell_type": "code",
   "execution_count": null,
   "id": "063f9a1e-9600-4d2a-b9a2-457438fec13f",
   "metadata": {},
   "outputs": [],
   "source": [
    "! gre"
   ]
  },
  {
   "cell_type": "markdown",
   "id": "78271af1-ce03-4311-9a74-1b6c6b02e4b8",
   "metadata": {},
   "source": [
    "# GSTREAMER"
   ]
  }
 ],
 "metadata": {
  "kernelspec": {
   "display_name": "video-editor",
   "language": "python",
   "name": "video-editor"
  },
  "language_info": {
   "codemirror_mode": {
    "name": "ipython",
    "version": 3
   },
   "file_extension": ".py",
   "mimetype": "text/x-python",
   "name": "python",
   "nbconvert_exporter": "python",
   "pygments_lexer": "ipython3",
   "version": "3.10.0"
  }
 },
 "nbformat": 4,
 "nbformat_minor": 5
}
