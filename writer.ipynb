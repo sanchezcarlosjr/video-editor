{
 "cells": [
  {
   "cell_type": "markdown",
   "id": "a92918a5-9e3b-4d18-bdf6-0e0290019893",
   "metadata": {},
   "source": [
    "# Watch video in local"
   ]
  },
  {
   "cell_type": "code",
   "execution_count": 23,
   "id": "b56a1007-9ec3-4dfc-b3d1-dd170f64b307",
   "metadata": {},
   "outputs": [
    {
     "name": "stderr",
     "output_type": "stream",
     "text": [
      "[ WARN:0@1425.127] global cap_gstreamer.cpp:1750 open OpenCV | GStreamer warning: frame count is estimated by duration and fps\n",
      "[ WARN:0@1425.127] global cap_gstreamer.cpp:1777 open OpenCV | GStreamer warning: Cannot query video position: status=1, value=1, duration=250\n"
     ]
    }
   ],
   "source": [
    "import numpy as np\n",
    "import cv2\n",
    "\n",
    "src = cv2.VideoCapture('filesrc location=mov_bbb.mp4 ! decodebin ! videoconvert ! appsink',cv2.CAP_GSTREAMER)\n",
    "\n",
    "\n",
    "while True:\n",
    "    ret,frame = src.read()\n",
    "    if cv2.waitKey(1)&0xFF == ord('q'):\n",
    "        break\n",
    "    if not ret:\n",
    "        break\n",
    "\n",
    "    cv2.imshow('', frame)\n",
    "\n",
    "cv2.destroyAllWindows()\n",
    "cap.release()"
   ]
  },
  {
   "cell_type": "markdown",
   "id": "64d3e9a2-87b7-4efa-a41e-3e8f48cad89d",
   "metadata": {},
   "source": [
    "# Transform and send over network"
   ]
  },
  {
   "cell_type": "code",
   "execution_count": null,
   "id": "44366a11-9471-40e5-b90a-470d60c085e0",
   "metadata": {},
   "outputs": [],
   "source": [
    "import cv2\n",
    "import time\n",
    "from PIL import Image\n",
    "\n",
    "gst_str = 'appsrc ! videoconvert ! x264enc tune=zerolatency bitrate=500 speed-preset=superfast ! rtph264pay ! udpsink host=127.0.0.1 port=5000'\n",
    "\n",
    "fps = 30\n",
    "frame_width = 640\n",
    "frame_height = 480\n",
    "\n",
    "out = cv2.VideoWriter(gst_str, cv2.CAP_GSTREAMER, 0, fps, (frame_width, frame_height), True)\n",
    "\n",
    "original_image = cv2.imread('captura-de-movimiento.png')\n",
    "img = cv2.resize(img, (frame_width, frame_height))\n",
    "\n",
    "\n",
    "while True:\n",
    "    out.write(img)\n",
    "    time.sleep(1/60)"
   ]
  }
 ],
 "metadata": {
  "kernelspec": {
   "display_name": "base",
   "language": "python",
   "name": "base"
  },
  "language_info": {
   "codemirror_mode": {
    "name": "ipython",
    "version": 3
   },
   "file_extension": ".py",
   "mimetype": "text/x-python",
   "name": "python",
   "nbconvert_exporter": "python",
   "pygments_lexer": "ipython3",
   "version": "3.11.6"
  }
 },
 "nbformat": 4,
 "nbformat_minor": 5
}
